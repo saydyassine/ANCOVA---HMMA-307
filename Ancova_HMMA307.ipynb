{
 "cells": [
  {
   "cell_type": "markdown",
   "metadata": {},
   "source": [
    "# HMMA 307 : Analyse de la covariance sur les données Crickets de Walker \n",
    "## Travail fait par : SAYD Yassine \n",
    "### M2 MIND 2020-2021"
   ]
  },
  {
   "cell_type": "markdown",
   "metadata": {},
   "source": [
    "## 1. Importation et nettoyage des données :"
   ]
  },
  {
   "cell_type": "code",
   "execution_count": 2,
   "metadata": {},
   "outputs": [],
   "source": [
    "import numpy as np\n",
    "import pandas as pd\n",
    "import csv"
   ]
  },
  {
   "cell_type": "code",
   "execution_count": 3,
   "metadata": {},
   "outputs": [],
   "source": [
    "data = pd.read_csv(\"C:/Users/33665/Desktop/Crickets.csv\")\n",
    "#Importation des données"
   ]
  },
  {
   "cell_type": "code",
   "execution_count": 4,
   "metadata": {},
   "outputs": [
    {
     "name": "stdout",
     "output_type": "stream",
     "text": [
      "<class 'pandas.core.frame.DataFrame'>\n"
     ]
    }
   ],
   "source": [
    "print(type(data))\n",
    "#Format des données"
   ]
  },
  {
   "cell_type": "code",
   "execution_count": 5,
   "metadata": {},
   "outputs": [
    {
     "name": "stdout",
     "output_type": "stream",
     "text": [
      "(17, 5)\n"
     ]
    }
   ],
   "source": [
    "print(data.shape)\n",
    "#Taille du dataframe"
   ]
  },
  {
   "cell_type": "code",
   "execution_count": 6,
   "metadata": {},
   "outputs": [
    {
     "name": "stdout",
     "output_type": "stream",
     "text": [
      "    Unnamed: 0  TempEx  ImpulsionEx  TempNiv  ImpulsionNiv\n",
      "0            1    20.8         67.9     17.2          44.3\n",
      "1            2    20.8         65.1     18.3          47.2\n",
      "2            3    24.0         77.3     18.3          47.6\n",
      "3            4    24.0         78.7     18.3          49.6\n",
      "4            5    24.0         79.4     18.9          50.3\n",
      "5            6    24.0         80.4     18.9          51.8\n",
      "6            7    26.2         85.8     20.4          60.0\n",
      "7            8    26.2         86.6     21.0          58.5\n",
      "8            9    26.2         87.5     21.0          58.9\n",
      "9           10    26.2         89.1     22.1          60.7\n",
      "10          11    28.4         98.6     23.5          69.8\n",
      "11          12    29.0        100.8     24.2          70.9\n",
      "12          13    30.4         99.3     25.9          76.2\n",
      "13          14    30.4        101.7     26.5          76.1\n",
      "14          15     NaN          NaN     26.5          77.0\n",
      "15          16     NaN          NaN     26.5          77.7\n",
      "16          17     NaN          NaN     28.6          84.7\n"
     ]
    }
   ],
   "source": [
    "print(data)\n",
    "#Affichage des données (il y a une colonne en trop)"
   ]
  },
  {
   "cell_type": "code",
   "execution_count": 7,
   "metadata": {},
   "outputs": [],
   "source": [
    "Crickets = data.drop([\"Unnamed: 0\"] , axis = 1)\n",
    "#Supression de la 1ère colonne (inutile)"
   ]
  },
  {
   "cell_type": "code",
   "execution_count": 8,
   "metadata": {},
   "outputs": [
    {
     "name": "stdout",
     "output_type": "stream",
     "text": [
      "    TempEx  ImpulsionEx  TempNiv  ImpulsionNiv\n",
      "0     20.8         67.9     17.2          44.3\n",
      "1     20.8         65.1     18.3          47.2\n",
      "2     24.0         77.3     18.3          47.6\n",
      "3     24.0         78.7     18.3          49.6\n",
      "4     24.0         79.4     18.9          50.3\n",
      "5     24.0         80.4     18.9          51.8\n",
      "6     26.2         85.8     20.4          60.0\n",
      "7     26.2         86.6     21.0          58.5\n",
      "8     26.2         87.5     21.0          58.9\n",
      "9     26.2         89.1     22.1          60.7\n",
      "10    28.4         98.6     23.5          69.8\n",
      "11    29.0        100.8     24.2          70.9\n",
      "12    30.4         99.3     25.9          76.2\n",
      "13    30.4        101.7     26.5          76.1\n",
      "14     NaN          NaN     26.5          77.0\n",
      "15     NaN          NaN     26.5          77.7\n",
      "16     NaN          NaN     28.6          84.7\n"
     ]
    }
   ],
   "source": [
    "print(Crickets)\n",
    "#Affichage du dataframe"
   ]
  },
  {
   "cell_type": "markdown",
   "metadata": {},
   "source": [
    "## 2. Analyse descriptive :"
   ]
  },
  {
   "cell_type": "code",
   "execution_count": 9,
   "metadata": {},
   "outputs": [
    {
     "name": "stdout",
     "output_type": "stream",
     "text": [
      "TempEx          float64\n",
      "ImpulsionEx     float64\n",
      "TempNiv         float64\n",
      "ImpulsionNiv    float64\n",
      "dtype: object\n"
     ]
    }
   ],
   "source": [
    "print(Crickets.dtypes)\n",
    "#Nature des variables\n",
    "#TempEx correspond à la Températue en degrès Celsus chez les grillons Oecanthus exclamationis \n",
    "#TempEx correspond à la Températue en degrès Celsus chez les grillons Oecanthus niveus\n",
    "#ImpulsionEx correspond au nombre d'impulsions de chant par seconde chez les grillons Oecanthus exclamationis\n",
    "#ImpulsionNiv correspond au nombre d'impulsions de chant par seconde chez les grillons Oecanthus niveus"
   ]
  },
  {
   "cell_type": "code",
   "execution_count": 10,
   "metadata": {},
   "outputs": [
    {
     "name": "stdout",
     "output_type": "stream",
     "text": [
      "          TempEx  ImpulsionEx    TempNiv  ImpulsionNiv\n",
      "count  14.000000    14.000000  17.000000     17.000000\n",
      "mean   25.757143    85.585714  22.123529     62.429412\n",
      "std     3.074639    11.699300   3.659325     12.956840\n",
      "min    20.800000    65.100000  17.200000     44.300000\n",
      "25%    24.000000    78.875000  18.900000     50.300000\n",
      "50%    26.200000    86.200000  21.000000     60.000000\n",
      "75%    27.850000    96.225000  25.900000     76.100000\n",
      "max    30.400000   101.700000  28.600000     84.700000\n"
     ]
    }
   ],
   "source": [
    "print(Crickets.describe(include='all'))\n",
    "#Summary des varaibles (nombre total,moyenne,écart-type,min,1er quartile,médiane,3ème quartile,max)"
   ]
  },
  {
   "cell_type": "code",
   "execution_count": 11,
   "metadata": {},
   "outputs": [],
   "source": [
    "import matplotlib.pyplot as plt"
   ]
  },
  {
   "cell_type": "code",
   "execution_count": 12,
   "metadata": {},
   "outputs": [
    {
     "data": {
      "text/plain": [
       "array([[<matplotlib.axes._subplots.AxesSubplot object at 0x000001E88C60BE88>]],\n",
       "      dtype=object)"
      ]
     },
     "execution_count": 12,
     "metadata": {},
     "output_type": "execute_result"
    },
    {
     "data": {
      "image/png": "[encoded data removed]",
      "text/plain": [
       "<Figure size 432x288 with 1 Axes>"
      ]
     },
     "metadata": {
      "needs_background": "light"
     },
     "output_type": "display_data"
    },
    {
     "data": {
      "image/png": "[encoded data removed]",
      "text/plain": [
       "<Figure size 432x288 with 1 Axes>"
      ]
     },
     "metadata": {
      "needs_background": "light"
     },
     "output_type": "display_data"
    },
    {
     "data": {
      "image/png": "[encoded data removed]",
      "text/plain": [
       "<Figure size 432x288 with 1 Axes>"
      ]
     },
     "metadata": {
      "needs_background": "light"
     },
     "output_type": "display_data"
    },
    {
     "data": {
      "image/png": "[encoded data removed]",
      "text/plain": [
       "<Figure size 432x288 with 1 Axes>"
      ]
     },
     "metadata": {
      "needs_background": "light"
     },
     "output_type": "display_data"
    }
   ],
   "source": [
    "Crickets.hist(column='TempEx', color='red')\n",
    "Crickets.hist(column='TempNiv', color='blue')\n",
    "Crickets.hist(column='ImpulsionEx', color='yellow')\n",
    "Crickets.hist(column='ImpulsionNiv', color='green')\n",
    "#Histogrammes des 4 variables"
   ]
  },
  {
   "cell_type": "code",
   "execution_count": 13,
   "metadata": {},
   "outputs": [
    {
     "data": {
      "text/plain": [
       "<matplotlib.axes._subplots.AxesSubplot at 0x1e88c70ed08>"
      ]
     },
     "execution_count": 13,
     "metadata": {},
     "output_type": "execute_result"
    },
    {
     "data": {
      "image/png": "[encoded data removed]",
      "text/plain": [
       "<Figure size 432x288 with 1 Axes>"
      ]
     },
     "metadata": {
      "needs_background": "light"
     },
     "output_type": "display_data"
    }
   ],
   "source": [
    "Crickets['TempEx'].plot.kde()\n",
    "Crickets['TempNiv'].plot.kde()\n",
    "#Comparaison de la distribution de la température chez les Oecanthus exclamationis (bleu) et chez les Oecanthus niveus (orange)"
   ]
  },
  {
   "cell_type": "code",
   "execution_count": 14,
   "metadata": {},
   "outputs": [
    {
     "data": {
      "text/plain": [
       "<matplotlib.axes._subplots.AxesSubplot at 0x1e88d16b288>"
      ]
     },
     "execution_count": 14,
     "metadata": {},
     "output_type": "execute_result"
    },
    {
     "data": {
      "image/png": "[encoded data removed]",
      "text/plain": [
       "<Figure size 432x288 with 1 Axes>"
      ]
     },
     "metadata": {
      "needs_background": "light"
     },
     "output_type": "display_data"
    }
   ],
   "source": [
    "Crickets['ImpulsionEx'].plot.kde()\n",
    "Crickets['ImpulsionNiv'].plot.kde()\n",
    "#Comparaison de la distribution du nombre d'impulsions de chant chez les Oecanthus exclamationis (bleu) et chez les Oecanthus niveus (orange)"
   ]
  },
  {
   "cell_type": "code",
   "execution_count": 15,
   "metadata": {},
   "outputs": [
    {
     "data": {
      "text/plain": [
       "<matplotlib.axes._subplots.AxesSubplot at 0x1e88e21cf48>"
      ]
     },
     "execution_count": 15,
     "metadata": {},
     "output_type": "execute_result"
    },
    {
     "data": {
      "image/png": "[encoded data removed]",
      "text/plain": [
       "<Figure size 432x288 with 1 Axes>"
      ]
     },
     "metadata": {
      "needs_background": "light"
     },
     "output_type": "display_data"
    },
    {
     "data": {
      "image/png": "[encoded data removed]",
      "text/plain": [
       "<Figure size 432x288 with 1 Axes>"
      ]
     },
     "metadata": {
      "needs_background": "light"
     },
     "output_type": "display_data"
    }
   ],
   "source": [
    "Crickets.plot.scatter(x='ImpulsionEx',y='TempEx', color='red')\n",
    "Crickets.plot.scatter(x='ImpulsionNiv',y='TempNiv', color='blue')\n",
    "#Tracé des scattergraphs du nombre d'impulsions en fonction de la température"
   ]
  },
  {
   "cell_type": "markdown",
   "metadata": {},
   "source": [
    "## 3. Test de Student :"
   ]
  },
  {
   "cell_type": "code",
   "execution_count": 46,
   "metadata": {},
   "outputs": [],
   "source": [
    "import scipy.stats as stats"
   ]
  },
  {
   "cell_type": "markdown",
   "metadata": {},
   "source": [
    "Dans un premier temps, on ignore les températures et on compare simplement les fréquences d’impulsion moyennes chez les 2 groupes.\n",
    "A cause des valeurs manquantes (NaN), nous allons taper les valeurs à la main."
   ]
  },
  {
   "cell_type": "code",
   "execution_count": 43,
   "metadata": {},
   "outputs": [],
   "source": [
    "ImpEx= [67.9,65.1,77.3,78.7,79.4,80.4,85.8,86.6,87.5,89.1,98.6,100.8,99.3,101.7]\n",
    "ImpNiv= [44.3,47.2,47.6,49.6,50.3,51.8,60.0,58.5,58.9,60.7,69.8,70.9,76.2,76.1,77.0,77.7,84.7]"
   ]
  },
  {
   "cell_type": "code",
   "execution_count": 44,
   "metadata": {},
   "outputs": [
    {
     "data": {
      "text/plain": [
       "Ttest_indResult(statistic=5.170637408108505, pvalue=1.5785582214802644e-05)"
      ]
     },
     "execution_count": 44,
     "metadata": {},
     "output_type": "execute_result"
    }
   ],
   "source": [
    "#On effectue le test de Student pour vérifier l'égalité des moyennes des fréquences d’impulsion chez les 2 groupes\n",
    "scipy.stats.ttest_ind(ImpEx,ImpNiv)"
   ]
  },
  {
   "cell_type": "markdown",
   "metadata": {},
   "source": [
    "La p-value de l'ordre de 2×10−5, donc on rejette l'hypothèse nulle. Oecanthus exclamationis a un taux plus élevé que Oecanthus niveus, et la différence des moyennes est très significatives (23.2)."
   ]
  },
  {
   "cell_type": "code",
   "execution_count": 22,
   "metadata": {},
   "outputs": [
    {
     "name": "stdout",
     "output_type": "stream",
     "text": [
      "85.58571428571429\n",
      "62.42941176470588\n"
     ]
    }
   ],
   "source": [
    "#On peut également utiliser cette commande-là pour calculer les moyennes chez les 2 groupes : \n",
    "print(Crickets['ImpulsionEx'].mean())\n",
    "print(Crickets['ImpulsionNiv'].mean())"
   ]
  },
  {
   "cell_type": "markdown",
   "metadata": {},
   "source": [
    "## 4. Ancova : "
   ]
  },
  {
   "cell_type": "markdown",
   "metadata": {},
   "source": [
    "Comme la température moyenne pour les mesures Oecanthus exclamationis était de 3,6 °C plus élevé que pour Oecanthus niveus, il est insensé de négliger la température. Oecanthus exclamationis pourrait avoir un taux plus élevé que Oecanthus niveus à certaines températures, mais pas d’autres. "
   ]
  },
  {
   "cell_type": "markdown",
   "metadata": {},
   "source": [
    "On peut contrôler la température avec l’ancova, qui nous dira si la ligne de régression pour Oecanthus exclamationis est plus élevée que la ligne pour Oecanthus niveus; si c’est le cas, cela signifie que Oecanthus exclamationis aurait un taux de pouls plus élevé à n’importe quelle température."
   ]
  },
  {
   "cell_type": "code",
   "execution_count": 204,
   "metadata": {},
   "outputs": [],
   "source": [
    "import statsmodels.api as sm\n",
    "from statsmodels.formula.api import ols\n",
    "import statsmodels\n",
    "import seaborn as sns\n",
    "sns.set_style(\"darkgrid\")"
   ]
  },
  {
   "cell_type": "code",
   "execution_count": 102,
   "metadata": {},
   "outputs": [
    {
     "name": "stdout",
     "output_type": "stream",
     "text": [
      "                            OLS Regression Results                            \n",
      "==============================================================================\n",
      "Dep. Variable:            ImpulsionEx   R-squared:                       0.972\n",
      "Model:                            OLS   Adj. R-squared:                  0.970\n",
      "Method:                 Least Squares   F-statistic:                     416.6\n",
      "Date:                Sun, 08 Nov 2020   Prob (F-statistic):           1.10e-10\n",
      "Time:                        15:11:19   Log-Likelihood:                -28.751\n",
      "No. Observations:                  14   AIC:                             61.50\n",
      "Df Residuals:                      12   BIC:                             62.78\n",
      "Df Model:                           1                                         \n",
      "Covariance Type:            nonrobust                                         \n",
      "==============================================================================\n",
      "                 coef    std err          t      P>|t|      [0.025      0.975]\n",
      "------------------------------------------------------------------------------\n",
      "Intercept    -11.0408      4.765     -2.317      0.039     -21.424      -0.658\n",
      "TempEx         3.7514      0.184     20.410      0.000       3.351       4.152\n",
      "==============================================================================\n",
      "Omnibus:                        0.039   Durbin-Watson:                   1.533\n",
      "Prob(Omnibus):                  0.981   Jarque-Bera (JB):                0.268\n",
      "Skew:                           0.002   Prob(JB):                        0.874\n",
      "Kurtosis:                       2.322   Cond. No.                         227.\n",
      "==============================================================================\n",
      "\n",
      "Warnings:\n",
      "[1] Standard Errors assume that the covariance matrix of the errors is correctly specified.\n"
     ]
    }
   ],
   "source": [
    "#Régression OLS chez les Oecanthus exclamationis\n",
    "model1 = ols(\"ImpulsionEx~TempEx\",data=Crickets).fit()\n",
    "print(model1.summary())"
   ]
  },
  {
   "cell_type": "markdown",
   "metadata": {},
   "source": [
    "Y_1 = 3.75X_1 - 11.04 où Y_1: Le nombre d'impulsions par seconde chez les Oecanthus exclamationis et X-1: Température en degrès Celsus"
   ]
  },
  {
   "cell_type": "code",
   "execution_count": 108,
   "metadata": {},
   "outputs": [
    {
     "name": "stdout",
     "output_type": "stream",
     "text": [
      "            df       sum_sq      mean_sq           F        PR(>F)\n",
      "TempEx     1.0  1729.535079  1729.535079  416.570878  1.100375e-10\n",
      "Residual  12.0    49.822064     4.151839         NaN           NaN\n"
     ]
    }
   ],
   "source": [
    "aov1 = sm.stats.anova_lm(model1, type=2)\n",
    "print(aov1)"
   ]
  },
  {
   "cell_type": "markdown",
   "metadata": {},
   "source": [
    "p-value = 1.100375e-10 "
   ]
  },
  {
   "cell_type": "code",
   "execution_count": 103,
   "metadata": {},
   "outputs": [
    {
     "data": {
      "image/png": "[encoded data removed]",
      "text/plain": [
       "<Figure size 432x288 with 1 Axes>"
      ]
     },
     "metadata": {},
     "output_type": "display_data"
    }
   ],
   "source": [
    "#Tracé des lignes de régression chez les Oecanthus exclamationis \n",
    "ax1 = sns.regplot(x=\"TempEx\", y=\"ImpulsionEx\", data=Crickets, color='r')"
   ]
  },
  {
   "cell_type": "code",
   "execution_count": 87,
   "metadata": {},
   "outputs": [
    {
     "name": "stdout",
     "output_type": "stream",
     "text": [
      "                            OLS Regression Results                            \n",
      "==============================================================================\n",
      "Dep. Variable:           ImpulsionNiv   R-squared:                       0.987\n",
      "Model:                            OLS   Adj. R-squared:                  0.986\n",
      "Method:                 Least Squares   F-statistic:                     1128.\n",
      "Date:                Sun, 08 Nov 2020   Prob (F-statistic):           1.57e-15\n",
      "Time:                        14:44:15   Log-Likelihood:                -30.321\n",
      "No. Observations:                  17   AIC:                             64.64\n",
      "Df Residuals:                      15   BIC:                             66.31\n",
      "Df Model:                           1                                         \n",
      "Covariance Type:            nonrobust                                         \n",
      "==============================================================================\n",
      "                 coef    std err          t      P>|t|      [0.025      0.975]\n",
      "------------------------------------------------------------------------------\n",
      "Intercept    -15.3893      2.347     -6.558      0.000     -20.391     -10.387\n",
      "TempNiv        3.5175      0.105     33.585      0.000       3.294       3.741\n",
      "==============================================================================\n",
      "Omnibus:                        4.526   Durbin-Watson:                   1.743\n",
      "Prob(Omnibus):                  0.104   Jarque-Bera (JB):                2.535\n",
      "Skew:                           0.924   Prob(JB):                        0.282\n",
      "Kurtosis:                       3.402   Cond. No.                         142.\n",
      "==============================================================================\n",
      "\n",
      "Warnings:\n",
      "[1] Standard Errors assume that the covariance matrix of the errors is correctly specified.\n"
     ]
    },
    {
     "name": "stderr",
     "output_type": "stream",
     "text": [
      "C:\\Users\\33665\\Anaconda3\\lib\\site-packages\\scipy\\stats\\stats.py:1450: UserWarning: kurtosistest only valid for n>=20 ... continuing anyway, n=17\n",
      "  \"anyway, n=%i\" % int(n))\n"
     ]
    }
   ],
   "source": [
    "#Régression OLS chez les Oecanthus niveus\n",
    "model2 = ols(\"ImpulsionNiv~TempNiv\",data=Crickets).fit()\n",
    "print(model2.summary())"
   ]
  },
  {
   "cell_type": "markdown",
   "metadata": {},
   "source": [
    "Y_2 = 3.52X_1 - 15.40 où Y_2: Le nombre d'impulsions par seconde chez les Oecanthus niveus et X_2: Température en degrès Celsus"
   ]
  },
  {
   "cell_type": "code",
   "execution_count": 93,
   "metadata": {},
   "outputs": [
    {
     "name": "stdout",
     "output_type": "stream",
     "text": [
      "            df       sum_sq      mean_sq            F        PR(>F)\n",
      "TempNiv    1.0  2650.823268  2650.823268  1127.945082  1.565616e-15\n",
      "Residual  15.0    35.252026     2.350135          NaN           NaN\n"
     ]
    }
   ],
   "source": [
    "aov2 = sm.stats.anova_lm(model2)\n",
    "print(aov2)"
   ]
  },
  {
   "cell_type": "markdown",
   "metadata": {},
   "source": [
    "p-value = 1.565616e-15"
   ]
  },
  {
   "cell_type": "code",
   "execution_count": 104,
   "metadata": {},
   "outputs": [
    {
     "data": {
      "image/png": "[encoded data removed]",
      "text/plain": [
       "<Figure size 432x288 with 1 Axes>"
      ]
     },
     "metadata": {},
     "output_type": "display_data"
    }
   ],
   "source": [
    "#Tracé des lignes de régression chez les Oecanthus niveus\n",
    "ax2 = sns.regplot(x=\"TempNiv\", y=\"ImpulsionNiv\", data=Crickets, color='b')"
   ]
  },
  {
   "cell_type": "code",
   "execution_count": 105,
   "metadata": {},
   "outputs": [
    {
     "data": {
      "image/png": "[encoded data removed]",
      "text/plain": [
       "<Figure size 432x288 with 1 Axes>"
      ]
     },
     "metadata": {},
     "output_type": "display_data"
    }
   ],
   "source": [
    "#Superposition des lignes de régression chez les Oecanthus exclamationis (rouge) et chez les Oecanthus niveus (bleu)\n",
    "ax1 = sns.regplot(x=\"TempEx\", y=\"ImpulsionEx\", data=Crickets, color='r')\n",
    "ax2 = sns.regplot(x=\"TempNiv\", y=\"ImpulsionNiv\", data=Crickets, color='b')"
   ]
  },
  {
   "cell_type": "markdown",
   "metadata": {},
   "source": [
    "La ligne de régression pour Oecanthus exclamationis est plus élevée que la ligne pour Oecanthus niveus; cela signifie que Oecanthus exclamationis aurait un taux de pouls plus élevé à n’importe quelle température."
   ]
  },
  {
   "cell_type": "markdown",
   "metadata": {},
   "source": [
    "La première hypothèse nulle de l’ancova est que les pentes des lignes de régression sont toutes égales; en d’autres termes, que les lignes de régression sont parallèles les unes aux autres. On va acceptez l’hypothèse nulle selon laquelle les lignes de régression sont parallèles et nous testerons la deuxième hypothèse nulle : que les interceptions des lignes de régression sont toutes les mêmes."
   ]
  },
  {
   "cell_type": "markdown",
   "metadata": {},
   "source": [
    "Les pentes ne sont pas significativement différentes (P=0,25); la pente commune est de 3,60, ce qui se trouve entre les pentes pour les lignes séparées (3,52 et 3,75). Sur cette partie-là, je n'ai pas réussi à tester cette hypothèse."
   ]
  },
  {
   "cell_type": "markdown",
   "metadata": {},
   "source": [
    "Ancova fait les mêmes hypothèses que la régression linéaire : normalité et homoscédasticité de Y pour chaque valeur de X, et indépendance. Vérifions au moins l'hypothèse de normalité. "
   ]
  },
  {
   "cell_type": "code",
   "execution_count": 202,
   "metadata": {},
   "outputs": [
    {
     "data": {
      "text/plain": [
       "(0.972694456577301, 0.9104770421981812)"
      ]
     },
     "execution_count": 202,
     "metadata": {},
     "output_type": "execute_result"
    }
   ],
   "source": [
    "#Test de Shapiro chez les Oecanthus exclamationis\n",
    "stats.shapiro(model1.resid)"
   ]
  },
  {
   "cell_type": "markdown",
   "metadata": {},
   "source": [
    "W= 0.9727, p= 0.9105 donc les résidus sont bien distribués suivant la loi normale chez les Oecanthus exclamationis"
   ]
  },
  {
   "cell_type": "code",
   "execution_count": 203,
   "metadata": {},
   "outputs": [
    {
     "data": {
      "text/plain": [
       "(0.915918231010437, 0.1259610801935196)"
      ]
     },
     "execution_count": 203,
     "metadata": {},
     "output_type": "execute_result"
    }
   ],
   "source": [
    "#Test de Shapiro chez les Oecanthus niveus\n",
    "stats.shapiro(model2.resid)"
   ]
  },
  {
   "cell_type": "markdown",
   "metadata": {},
   "source": [
    "W= 0.9159, p= 0.1259 donc les résidus sont bien distribués suivant la loi normale chez les Oecanthus niveus"
   ]
  },
  {
   "cell_type": "markdown",
   "metadata": {},
   "source": [
    "Maintenant procédons à un test de Tukey sous l'hypothèse que leurs pentes sont toutes les mêmes"
   ]
  },
  {
   "cell_type": "code",
   "execution_count": 188,
   "metadata": {},
   "outputs": [],
   "source": [
    "from statsmodels.stats.multicomp import pairwise_tukeyhsd"
   ]
  },
  {
   "cell_type": "code",
   "execution_count": 189,
   "metadata": {},
   "outputs": [
    {
     "name": "stdout",
     "output_type": "stream",
     "text": [
      "Multiple Comparison of Means - Tukey HSD, FWER=0.05\n",
      "================================================\n",
      "group1 group2 meandiff p-adj  lower upper reject\n",
      "------------------------------------------------\n",
      "  20.8   24.0    12.45 0.5566   nan   nan  False\n",
      "  20.8   26.2    20.75 0.5566   nan   nan  False\n",
      "  20.8   28.4     32.1 0.5566   nan   nan  False\n",
      "  20.8   29.0     34.3 0.5566   nan   nan  False\n",
      "  20.8   30.4     34.0 0.5566   nan   nan  False\n",
      "  20.8    nan      nan 0.5566   nan   nan  False\n",
      "  20.8    nan      nan 0.5566   nan   nan  False\n",
      "  20.8    nan      nan 0.5566   nan   nan  False\n",
      "  24.0   26.2      8.3 0.5566   nan   nan  False\n",
      "  24.0   28.4    19.65 0.5566   nan   nan  False\n",
      "  24.0   29.0    21.85 0.5566   nan   nan  False\n",
      "  24.0   30.4    21.55 0.5566   nan   nan  False\n",
      "  24.0    nan      nan 0.5566   nan   nan  False\n",
      "  24.0    nan      nan 0.5566   nan   nan  False\n",
      "  24.0    nan      nan 0.5566   nan   nan  False\n",
      "  26.2   28.4    11.35 0.5566   nan   nan  False\n",
      "  26.2   29.0    13.55 0.5566   nan   nan  False\n",
      "  26.2   30.4    13.25 0.5566   nan   nan  False\n",
      "  26.2    nan      nan 0.5566   nan   nan  False\n",
      "  26.2    nan      nan 0.5566   nan   nan  False\n",
      "  26.2    nan      nan 0.5566   nan   nan  False\n",
      "  28.4   29.0      2.2 0.5566   nan   nan  False\n",
      "  28.4   30.4      1.9 0.5566   nan   nan  False\n",
      "  28.4    nan      nan 0.5566   nan   nan  False\n",
      "  28.4    nan      nan 0.5566   nan   nan  False\n",
      "  28.4    nan      nan 0.5566   nan   nan  False\n",
      "  29.0   30.4     -0.3 0.5566   nan   nan  False\n",
      "  29.0    nan      nan 0.5566   nan   nan  False\n",
      "  29.0    nan      nan 0.5566   nan   nan  False\n",
      "  29.0    nan      nan 0.5566   nan   nan  False\n",
      "  30.4    nan      nan 0.5566   nan   nan  False\n",
      "  30.4    nan      nan 0.5566   nan   nan  False\n",
      "  30.4    nan      nan 0.5566   nan   nan  False\n",
      "   nan    nan      nan 0.5566   nan   nan  False\n",
      "   nan    nan      nan 0.5566   nan   nan  False\n",
      "   nan    nan      nan 0.5566   nan   nan  False\n",
      "------------------------------------------------\n"
     ]
    }
   ],
   "source": [
    "cm1 = pairwise_tukeyhsd(Crickets['ImpulsionEx'], Crickets['TempEx'], alpha = 0.05)\n",
    "print (cm1)"
   ]
  },
  {
   "cell_type": "markdown",
   "metadata": {},
   "source": [
    "Le test de Tukey ne rejette pas l'hypothèse nulle chez les Oecanthus exclamationis. Donc pas de différences significatives au niveau des intercepts entre chaque paire de lignes"
   ]
  },
  {
   "cell_type": "code",
   "execution_count": 174,
   "metadata": {},
   "outputs": [
    {
     "name": "stdout",
     "output_type": "stream",
     "text": [
      "Multiple Comparison of Means - Tukey HSD, FWER=0.05 \n",
      "====================================================\n",
      "group1 group2 meandiff p-adj   lower   upper  reject\n",
      "----------------------------------------------------\n",
      "  17.2   18.3   3.8333 0.1844 -1.5031  9.1697  False\n",
      "  17.2   18.9     6.75 0.0221  1.0899 12.4101   True\n",
      "  17.2   20.4     15.7  0.001  9.1643 22.2357   True\n",
      "  17.2   21.0     14.4  0.001  8.7399 20.0601   True\n",
      "  17.2   22.1     16.4  0.001  9.8643 22.9357   True\n",
      "  17.2   23.5     25.5  0.001 18.9643 32.0357   True\n",
      "  17.2   24.2     26.6  0.001 20.0643 33.1357   True\n",
      "  17.2   25.9     31.9  0.001 25.3643 38.4357   True\n",
      "  17.2   26.5  32.6333  0.001 27.2969 37.9697   True\n",
      "  17.2   28.6     40.4  0.001 33.8643 46.9357   True\n",
      "  18.3   18.9   2.9167 0.2097 -1.3021  7.1355  False\n",
      "  18.3   20.4  11.8667  0.001  6.5303 17.2031   True\n",
      "  18.3   21.0  10.5667  0.001  6.3479 14.7855   True\n",
      "  18.3   22.1  12.5667  0.001  7.2303 17.9031   True\n",
      "  18.3   23.5  21.6667  0.001 16.3303 27.0031   True\n",
      "  18.3   24.2  22.7667  0.001 17.4303 28.1031   True\n",
      "  18.3   25.9  28.0667  0.001 22.7303 33.4031   True\n",
      "  18.3   26.5     28.8  0.001 25.0266 32.5734   True\n",
      "  18.3   28.6  36.5667  0.001 31.2303 41.9031   True\n",
      "  18.9   20.4     8.95 0.0053  3.2899 14.6101   True\n",
      "  18.9   21.0     7.65 0.0041  3.0285 12.2715   True\n",
      "  18.9   22.1     9.65 0.0035  3.9899 15.3101   True\n",
      "  18.9   23.5    18.75  0.001 13.0899 24.4101   True\n",
      "  18.9   24.2    19.85  0.001 14.1899 25.5101   True\n",
      "  18.9   25.9    25.15  0.001 19.4899 30.8101   True\n",
      "  18.9   26.5  25.8833  0.001 21.6645 30.1021   True\n",
      "  18.9   28.6    33.65  0.001 27.9899 39.3101   True\n",
      "  20.4   21.0     -1.3    0.9 -6.9601  4.3601  False\n",
      "  20.4   22.1      0.7    0.9 -5.8357  7.2357  False\n",
      "  20.4   23.5      9.8  0.007  3.2643 16.3357   True\n",
      "  20.4   24.2     10.9  0.004  4.3643 17.4357   True\n",
      "  20.4   25.9     16.2  0.001  9.6643 22.7357   True\n",
      "  20.4   26.5  16.9333  0.001 11.5969 22.2697   True\n",
      "  20.4   28.6     24.7  0.001 18.1643 31.2357   True\n",
      "  21.0   22.1      2.0 0.8022 -3.6601  7.6601  False\n",
      "  21.0   23.5     11.1 0.0016  5.4399 16.7601   True\n",
      "  21.0   24.2     12.2  0.001  6.5399 17.8601   True\n",
      "  21.0   25.9     17.5  0.001 11.8399 23.1601   True\n",
      "  21.0   26.5  18.2333  0.001 14.0145 22.4521   True\n",
      "  21.0   28.6     26.0  0.001 20.3399 31.6601   True\n",
      "  22.1   23.5      9.1 0.0102  2.5643 15.6357   True\n",
      "  22.1   24.2     10.2 0.0057  3.6643 16.7357   True\n",
      "  22.1   25.9     15.5  0.001  8.9643 22.0357   True\n",
      "  22.1   26.5  16.2333  0.001 10.8969 21.5697   True\n",
      "  22.1   28.6     24.0  0.001 17.4643 30.5357   True\n",
      "  23.5   24.2      1.1    0.9 -5.4357  7.6357  False\n",
      "  23.5   25.9      6.4 0.0548 -0.1357 12.9357  False\n",
      "  23.5   26.5   7.1333 0.0126  1.7969 12.4697   True\n",
      "  23.5   28.6     14.9  0.001  8.3643 21.4357   True\n",
      "  24.2   25.9      5.3  0.119 -1.2357 11.8357  False\n",
      "  24.2   26.5   6.0333 0.0285  0.6969 11.3697   True\n",
      "  24.2   28.6     13.8 0.0011  7.2643 20.3357   True\n",
      "  25.9   26.5   0.7333    0.9 -4.6031  6.0697  False\n",
      "  25.9   28.6      8.5 0.0144  1.9643 15.0357   True\n",
      "  26.5   28.6   7.7667 0.0081  2.4303 13.1031   True\n",
      "----------------------------------------------------\n"
     ]
    }
   ],
   "source": [
    "cm2 = pairwise_tukeyhsd(Crickets['ImpulsionNiv'], Crickets['TempNiv'], alpha = 0.05)\n",
    "print(cm2)"
   ]
  },
  {
   "cell_type": "markdown",
   "metadata": {},
   "source": [
    "Le test de Tukey rejette quasiment à chaque fois l'hypothèse nulle chez les Oecanthus niveus. Donc il y a des différences significatives au niveau des intercepts entre la plupart des paires de lignes"
   ]
  }
 ],
 "metadata": {
  "kernelspec": {
   "display_name": "Python 3",
   "language": "python",
   "name": "python3"
  },
  "language_info": {
   "codemirror_mode": {
    "name": "ipython",
    "version": 3
   },
   "file_extension": ".py",
   "mimetype": "text/x-python",
   "name": "python",
   "nbconvert_exporter": "python",
   "pygments_lexer": "ipython3",
   "version": "3.7.4"
  }
 },
 "nbformat": 4,
 "nbformat_minor": 4
}
